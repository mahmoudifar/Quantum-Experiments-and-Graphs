{
 "cells": [
  {
   "cell_type": "code",
   "execution_count": 1,
   "metadata": {},
   "outputs": [],
   "source": [
    "from CNOT import *"
   ]
  },
  {
   "cell_type": "markdown",
   "metadata": {},
   "source": [
    "I want to test all Bell states as ancilla photons and assess for which ones the gate operates correctly.  \n",
    "For the gate to operate properly, the most general input state \n",
    "\n",
    "$$\\psi_{in} = \\alpha a[H]d[H] + \\beta a[H]d[V] + \\eta a[V]d[H] + \\gamma a[V]d[V]$$  \n",
    "\n",
    "\n",
    "has to be converted to the output state  \n",
    "\n",
    "\n",
    "$$\\psi_{out} = \\alpha b[H]c[H] + \\beta b[H]c[V] + \\eta b[V]c[V] + \\gamma b[V]c[H].$$"
   ]
  },
  {
   "cell_type": "code",
   "execution_count": 2,
   "metadata": {},
   "outputs": [],
   "source": [
    "# General input state \n",
    "psi_in = alpha * a[H] * d[H] + beta * a[H] * d[V] + eta * a[V] * d[H] + gamma * a[V] * d[V]\n",
    "\n",
    "# Ancillary states\n",
    "# Define the input Bell states\n",
    "psi_plus = get_EPR_state('psi+', b, c)\n",
    "psi_minus = get_EPR_state('psi-', b, c)\n",
    "phi_plus = get_EPR_state('phi+', b, c)\n",
    "phi_minus = get_EPR_state('phi-', b, c)\n"
   ]
  },
  {
   "cell_type": "markdown",
   "metadata": {},
   "source": [
    "For the CNOT gate in PyTheus (Quantum 7, 1204 (2023)), as shown in Figure 10, the state of the ancilla qubit is defined as $\\psi_{\\text{ancilla}} = |\\psi^+\\rangle.$"
   ]
  },
  {
   "cell_type": "code",
   "execution_count": 3,
   "metadata": {},
   "outputs": [
    {
     "name": "stdout",
     "output_type": "stream",
     "text": [
      "sqrt(2)*b[H]*c[V]/2 + sqrt(2)*b[V]*c[H]/2\n"
     ]
    }
   ],
   "source": [
    "print(psi_plus)"
   ]
  },
  {
   "cell_type": "code",
   "execution_count": 4,
   "metadata": {},
   "outputs": [
    {
     "data": {
      "text/latex": [
       "$\\displaystyle \\alpha \\left(\\frac{\\sqrt{2} {a}_{H} {b}_{H} {c}_{V} {d}_{H}}{2} + \\frac{\\sqrt{2} {a}_{H} {b}_{V} {c}_{H} {d}_{H}}{2}\\right) + \\beta \\left(\\frac{\\sqrt{2} {a}_{H} {b}_{H} {c}_{V} {d}_{V}}{2} + \\frac{\\sqrt{2} {a}_{H} {b}_{V} {c}_{H} {d}_{V}}{2}\\right) + \\eta \\left(\\frac{\\sqrt{2} {a}_{V} {b}_{H} {c}_{V} {d}_{H}}{2} + \\frac{\\sqrt{2} {a}_{V} {b}_{V} {c}_{H} {d}_{H}}{2}\\right) + \\gamma \\left(\\frac{\\sqrt{2} {a}_{V} {b}_{H} {c}_{V} {d}_{V}}{2} + \\frac{\\sqrt{2} {a}_{V} {b}_{V} {c}_{H} {d}_{V}}{2}\\right)$"
      ],
      "text/plain": [
       "alpha*(sqrt(2)*a[H]*b[H]*c[V]*d[H]/2 + sqrt(2)*a[H]*b[V]*c[H]*d[H]/2) + beta*(sqrt(2)*a[H]*b[H]*c[V]*d[V]/2 + sqrt(2)*a[H]*b[V]*c[H]*d[V]/2) + eta*(sqrt(2)*a[V]*b[H]*c[V]*d[H]/2 + sqrt(2)*a[V]*b[V]*c[H]*d[H]/2) + gamma*(sqrt(2)*a[V]*b[H]*c[V]*d[V]/2 + sqrt(2)*a[V]*b[V]*c[H]*d[V]/2)"
      ]
     },
     "execution_count": 4,
     "metadata": {},
     "output_type": "execute_result"
    }
   ],
   "source": [
    "# Combine the general input state (psi_in) and the ancillary state (psi_plus) to construct the total incoming state\n",
    "psi = sp.expand(psi_in * psi_plus)\n",
    "psi.collect([alpha, beta, eta, gamma])"
   ]
  },
  {
   "cell_type": "code",
   "execution_count": 5,
   "metadata": {},
   "outputs": [
    {
     "data": {
      "text/latex": [
       "$\\displaystyle \\left(\\frac{\\alpha {b}_{H} {c}_{H}}{4} + \\frac{\\beta {b}_{H} {c}_{V}}{4} - \\frac{\\eta {b}_{V} {c}_{V}}{4} - \\frac{\\gamma {b}_{V} {c}_{H}}{4}\\right) {a}_{A} {d}_{V} + \\left(\\frac{\\alpha {b}_{H} {c}_{H}}{4} + \\frac{\\beta {b}_{H} {c}_{V}}{4} + \\frac{\\eta {b}_{V} {c}_{V}}{4} + \\frac{\\gamma {b}_{V} {c}_{H}}{4}\\right) {a}_{D} {d}_{V} + \\left(\\frac{\\alpha {b}_{H} {c}_{V}}{4} + \\frac{\\beta {b}_{H} {c}_{H}}{4} - \\frac{\\eta {b}_{V} {c}_{H}}{4} - \\frac{\\gamma {b}_{V} {c}_{V}}{4}\\right) {a}_{A} {d}_{H} + \\left(\\frac{\\alpha {b}_{H} {c}_{V}}{4} + \\frac{\\beta {b}_{H} {c}_{H}}{4} + \\frac{\\eta {b}_{V} {c}_{H}}{4} + \\frac{\\gamma {b}_{V} {c}_{V}}{4}\\right) {a}_{D} {d}_{H}$"
      ],
      "text/plain": [
       "(alpha*b[H]*c[H]/4 + beta*b[H]*c[V]/4 - eta*b[V]*c[V]/4 - gamma*b[V]*c[H]/4)*a[A]*d[V] + (alpha*b[H]*c[H]/4 + beta*b[H]*c[V]/4 + eta*b[V]*c[V]/4 + gamma*b[V]*c[H]/4)*a[D]*d[V] + (alpha*b[H]*c[V]/4 + beta*b[H]*c[H]/4 - eta*b[V]*c[H]/4 - gamma*b[V]*c[V]/4)*a[A]*d[H] + (alpha*b[H]*c[V]/4 + beta*b[H]*c[H]/4 + eta*b[V]*c[H]/4 + gamma*b[V]*c[V]/4)*a[D]*d[H]"
      ]
     },
     "execution_count": 5,
     "metadata": {},
     "output_type": "execute_result"
    }
   ],
   "source": [
    "# Apply CNOT operation to the total incoming state\n",
    "psi_out = CNOT(psi, a, d, b, c)\n",
    "\n",
    "# Output the resulting state after the CNOT operation\n",
    "psi_out\n"
   ]
  },
  {
   "cell_type": "markdown",
   "metadata": {},
   "source": [
    "The second of these four terms indicates that the probabilistic CNOT quantum gate functions correctly when the polarization-sensitive detectors $D_a$  and $D_d$  detect a single photon with diagonal and vertical polarization, respectively. Thus, we achieve the desired CNOT transformation on most general input state with a success probability of  $\\frac{1}{16}$. However, by accepting the three additional terms and performing the required feed-forward operations for the CNOT gate, the four main terms combine, increasing the success probability from $\\frac{1}{16}$ to $\\frac{1}{4}$. \n",
    "\n",
    "For instance, in the first term, the detection of a single anti-diagonal polarized photon in detector $D_a$ activates a feed-forward operation $\\sigma_z$ on mode b ($b[V] \\to -b[V]$). In the fourth term, detecting a single $H$-polarized photon at $D_d$ requires a state flip ($\\sigma_x$) of the photon in mode $c$, transforming $c[H] \\leftrightarrow c[V]$. Finally, we see that the third term requires the application of both single-qubit operations ($\\sigma_z, \\sigma_x$).   \n",
    "\n",
    "In other words,  a CNOT operation is executed conditionally upon the simultaneous detection of two output ancilla photons—one detected at $D_a (A \\:\\text{or}\\: D)$, and the other at $D_d (H \\:\\text{or}\\: V)$. This detection occurs with a probability of $\\frac{1}{4}$. The two-fold coincidence detection heralds a successful gate operation, confirming the presence of the two remaining photons in the output control–target state.\n",
    "\n",
    "In the THESEUS Paper, a probabilistic CNOT quantum gate is analyzed using a graph-based approach. The paper claims the gate operates correctly under specific detection conditions and attributes success to interference effects.\n",
    "\n",
    "This analysis has led to different conclusions regarding the detection conditions, interference effects, and the mechanism leading to a successful CNOT operation. Below,  I summarize the key differences.\n",
    "\n",
    "### Key Differences\n",
    "\n",
    "1. Polarization Conditions for Success\n",
    "\n",
    "    - THESEUS Paper: The CNOT gate functions correctly when both ancilla detectors receive exactly one \n",
    "H-polarized photon.\n",
    "\n",
    "    - This Finding: The CNOT gate also succeeds when \n",
    "$D_a$  detects a diagonally polarized photon and \n",
    "$D_d$ detects a vertically polarized photon. This suggests that the gate does not require both detected photons to be \n",
    "H-polarized, contrary to the THESEUS claim.\n",
    "\n",
    "2. Role of Interference vs. Feed-Forward Operations\n",
    "\n",
    "    - THESEUS Paper: Certain terms undergo destructive interference, implying that unwanted terms naturally cancel out, ensuring the correct operation of the CNOT gate.\n",
    "\n",
    "    -  This Finding: Rather than relying solely on interference effects, the success probability increases from \n",
    " $\\frac{1}{16}$ to $\\frac{1}{4}$\n",
    "  by accepting additional terms and applying the necessary feed-forward operations.\n",
    "\n",
    "3. Mechanism of CNOT Gate Success\n",
    "    - THESEUS Paper: The primary mechanism ensuring CNOT success is interference-based filtering, where destructive interference removes unwanted terms.\n",
    "\n",
    "    - This Finding: The correct transformation occurs not by removing terms via interference, but by applying appropriate single-qubit operations to account for detection events.\n",
    "\n",
    "Next, I will analyze the remaining Bell states to verify whether this pattern holds in all cases.  \n",
    "\n"
   ]
  },
  {
   "cell_type": "code",
   "execution_count": 6,
   "metadata": {},
   "outputs": [
    {
     "data": {
      "text/latex": [
       "$\\displaystyle \\left(\\frac{\\alpha {b}_{H} {c}_{H}}{4} + \\frac{\\beta {b}_{H} {c}_{V}}{4} - \\frac{\\eta {b}_{V} {c}_{V}}{4} - \\frac{\\gamma {b}_{V} {c}_{H}}{4}\\right) {a}_{D} {d}_{V} + \\left(\\frac{\\alpha {b}_{H} {c}_{H}}{4} + \\frac{\\beta {b}_{H} {c}_{V}}{4} + \\frac{\\eta {b}_{V} {c}_{V}}{4} + \\frac{\\gamma {b}_{V} {c}_{H}}{4}\\right) {a}_{A} {d}_{V} + \\left(\\frac{\\alpha {b}_{H} {c}_{V}}{4} + \\frac{\\beta {b}_{H} {c}_{H}}{4} - \\frac{\\eta {b}_{V} {c}_{H}}{4} - \\frac{\\gamma {b}_{V} {c}_{V}}{4}\\right) {a}_{D} {d}_{H} + \\left(\\frac{\\alpha {b}_{H} {c}_{V}}{4} + \\frac{\\beta {b}_{H} {c}_{H}}{4} + \\frac{\\eta {b}_{V} {c}_{H}}{4} + \\frac{\\gamma {b}_{V} {c}_{V}}{4}\\right) {a}_{A} {d}_{H}$"
      ],
      "text/plain": [
       "(alpha*b[H]*c[H]/4 + beta*b[H]*c[V]/4 - eta*b[V]*c[V]/4 - gamma*b[V]*c[H]/4)*a[D]*d[V] + (alpha*b[H]*c[H]/4 + beta*b[H]*c[V]/4 + eta*b[V]*c[V]/4 + gamma*b[V]*c[H]/4)*a[A]*d[V] + (alpha*b[H]*c[V]/4 + beta*b[H]*c[H]/4 - eta*b[V]*c[H]/4 - gamma*b[V]*c[V]/4)*a[D]*d[H] + (alpha*b[H]*c[V]/4 + beta*b[H]*c[H]/4 + eta*b[V]*c[H]/4 + gamma*b[V]*c[V]/4)*a[A]*d[H]"
      ]
     },
     "execution_count": 6,
     "metadata": {},
     "output_type": "execute_result"
    }
   ],
   "source": [
    "# For ψ⁻ bell state \n",
    "psi = sp.expand(psi_in * psi_minus)\n",
    "psi_out = CNOT(psi, a, d, b, c)\n",
    "psi_out"
   ]
  },
  {
   "cell_type": "markdown",
   "metadata": {},
   "source": [
    "Similarly, the second term in the expression confirms that the CNOT gate operates correctly. In contrast, for the $\\psi^+$ Bell state, the only difference is in the polarization of the photon detected at $D_a$:\n",
    "- In $\\psi^+$, $D_a$ detects a diagonal ($𝐷$) polarized photon, whereas in $\\psi^-$, it detects an anti-diagonal ($A$)  polarized photon.\n",
    "\n",
    "- $D_d$ detects a vertically ($V$) polarized photon in both cases.\n",
    "\n",
    "Thus, the difference between the two cases lies only in the polarization of the photon detected at $D_a$ while the detection at $D_d$ remains unchanged. Therefore, the gate does not require both detected photons to be  $H$-polarized.\n"
   ]
  },
  {
   "cell_type": "code",
   "execution_count": 7,
   "metadata": {},
   "outputs": [
    {
     "data": {
      "text/latex": [
       "$\\displaystyle \\left(\\frac{\\alpha {b}_{H} {c}_{H}}{4} + \\frac{\\beta {b}_{H} {c}_{V}}{4} - \\frac{\\eta {b}_{V} {c}_{V}}{4} - \\frac{\\gamma {b}_{V} {c}_{H}}{4}\\right) {a}_{A} {d}_{H} + \\left(\\frac{\\alpha {b}_{H} {c}_{H}}{4} + \\frac{\\beta {b}_{H} {c}_{V}}{4} + \\frac{\\eta {b}_{V} {c}_{V}}{4} + \\frac{\\gamma {b}_{V} {c}_{H}}{4}\\right) {a}_{D} {d}_{H} + \\left(\\frac{\\alpha {b}_{H} {c}_{V}}{4} + \\frac{\\beta {b}_{H} {c}_{H}}{4} - \\frac{\\eta {b}_{V} {c}_{H}}{4} - \\frac{\\gamma {b}_{V} {c}_{V}}{4}\\right) {a}_{A} {d}_{V} + \\left(\\frac{\\alpha {b}_{H} {c}_{V}}{4} + \\frac{\\beta {b}_{H} {c}_{H}}{4} + \\frac{\\eta {b}_{V} {c}_{H}}{4} + \\frac{\\gamma {b}_{V} {c}_{V}}{4}\\right) {a}_{D} {d}_{V}$"
      ],
      "text/plain": [
       "(alpha*b[H]*c[H]/4 + beta*b[H]*c[V]/4 - eta*b[V]*c[V]/4 - gamma*b[V]*c[H]/4)*a[A]*d[H] + (alpha*b[H]*c[H]/4 + beta*b[H]*c[V]/4 + eta*b[V]*c[V]/4 + gamma*b[V]*c[H]/4)*a[D]*d[H] + (alpha*b[H]*c[V]/4 + beta*b[H]*c[H]/4 - eta*b[V]*c[H]/4 - gamma*b[V]*c[V]/4)*a[A]*d[V] + (alpha*b[H]*c[V]/4 + beta*b[H]*c[H]/4 + eta*b[V]*c[H]/4 + gamma*b[V]*c[V]/4)*a[D]*d[V]"
      ]
     },
     "execution_count": 7,
     "metadata": {},
     "output_type": "execute_result"
    }
   ],
   "source": [
    "# For the φ⁺ Bell state, the ancilla state used in the experiment conducted by Gasparoni et al. in 2004 \n",
    "# (Phys. Rev. Lett. 93, 020504, 2004).\n",
    "psi = sp.expand(psi_in * phi_plus)\n",
    "psi_out = CNOT(psi, a, d, b, c)\n",
    "psi_out"
   ]
  },
  {
   "cell_type": "markdown",
   "metadata": {},
   "source": [
    "In the same way, the second term in the expression confirms that the CNOT gate for the $\\phi^+$ state operates correctly. The key difference from the previous cases lies in the polarization of the photons detected by the polarization-sensitive detectors.\n",
    "\n",
    "In the experiment performed by Gasparoni, the three other terms are eliminated by passing the photons through polarization filters."
   ]
  },
  {
   "cell_type": "code",
   "execution_count": 8,
   "metadata": {},
   "outputs": [
    {
     "data": {
      "text/latex": [
       "$\\displaystyle \\left(\\frac{\\alpha {b}_{H} {c}_{H}}{4} + \\frac{\\beta {b}_{H} {c}_{V}}{4} - \\frac{\\eta {b}_{V} {c}_{V}}{4} - \\frac{\\gamma {b}_{V} {c}_{H}}{4}\\right) {a}_{D} {d}_{H} + \\left(\\frac{\\alpha {b}_{H} {c}_{H}}{4} + \\frac{\\beta {b}_{H} {c}_{V}}{4} + \\frac{\\eta {b}_{V} {c}_{V}}{4} + \\frac{\\gamma {b}_{V} {c}_{H}}{4}\\right) {a}_{A} {d}_{H} + \\left(\\frac{\\alpha {b}_{H} {c}_{V}}{4} + \\frac{\\beta {b}_{H} {c}_{H}}{4} - \\frac{\\eta {b}_{V} {c}_{H}}{4} - \\frac{\\gamma {b}_{V} {c}_{V}}{4}\\right) {a}_{D} {d}_{V} + \\left(\\frac{\\alpha {b}_{H} {c}_{V}}{4} + \\frac{\\beta {b}_{H} {c}_{H}}{4} + \\frac{\\eta {b}_{V} {c}_{H}}{4} + \\frac{\\gamma {b}_{V} {c}_{V}}{4}\\right) {a}_{A} {d}_{V}$"
      ],
      "text/plain": [
       "(alpha*b[H]*c[H]/4 + beta*b[H]*c[V]/4 - eta*b[V]*c[V]/4 - gamma*b[V]*c[H]/4)*a[D]*d[H] + (alpha*b[H]*c[H]/4 + beta*b[H]*c[V]/4 + eta*b[V]*c[V]/4 + gamma*b[V]*c[H]/4)*a[A]*d[H] + (alpha*b[H]*c[V]/4 + beta*b[H]*c[H]/4 - eta*b[V]*c[H]/4 - gamma*b[V]*c[V]/4)*a[D]*d[V] + (alpha*b[H]*c[V]/4 + beta*b[H]*c[H]/4 + eta*b[V]*c[H]/4 + gamma*b[V]*c[V]/4)*a[A]*d[V]"
      ]
     },
     "execution_count": 8,
     "metadata": {},
     "output_type": "execute_result"
    }
   ],
   "source": [
    "# For φ⁻ bell state (for this case also CNOT gate works correctly)\n",
    "psi = sp.expand(psi_in * phi_minus)\n",
    "psi_out = CNOT(psi, a, d, b, c)\n",
    "psi_out"
   ]
  },
  {
   "cell_type": "markdown",
   "metadata": {},
   "source": [
    "In summary, I have analyzed the performance of the probabilistic CNOT gate using different Bell states as ancilla photons. The results indicate that the gate operates correctly under various detection conditions. Additionally, the success probability can be improved by accepting additional terms and applying appropriate feed-forward operations. In contrast, the THESEUS paper attributes gate success to destructive interference."
   ]
  },
  {
   "cell_type": "markdown",
   "metadata": {},
   "source": [
    "-  Quantum Parity Check\n"
   ]
  },
  {
   "cell_type": "code",
   "execution_count": 9,
   "metadata": {},
   "outputs": [
    {
     "data": {
      "text/latex": [
       "$\\displaystyle \\left(\\frac{\\alpha {b}_{H}}{2} - \\frac{\\beta {b}_{V}}{2}\\right) {a}_{A} + \\left(\\frac{\\alpha {b}_{H}}{2} + \\frac{\\beta {b}_{V}}{2}\\right) {a}_{D}$"
      ],
      "text/plain": [
       "(alpha*b[H]/2 - beta*b[V]/2)*a[A] + (alpha*b[H]/2 + beta*b[V]/2)*a[D]"
      ]
     },
     "execution_count": 9,
     "metadata": {},
     "output_type": "execute_result"
    }
   ],
   "source": [
    "psi_a = alpha * a[H] + beta * a[V]\n",
    "psi_b = 1 / sp.sqrt(2) * b[H] + 1 / sp.sqrt(2) * b[V]\n",
    "\n",
    "psi_ab = sp.expand(psi_a * psi_b)\n",
    "\n",
    "psi_qpc = QuantumParityCheck(psi_ab, a, b)\n",
    "psi_ps = PostSelection(psi_qpc, Sort(psi_qpc))\n",
    "psi_ps.collect([a[A], a[D]])"
   ]
  },
  {
   "cell_type": "markdown",
   "metadata": {},
   "source": [
    "- Destructive CNOT Gate"
   ]
  },
  {
   "cell_type": "code",
   "execution_count": 10,
   "metadata": {},
   "outputs": [
    {
     "data": {
      "text/latex": [
       "$\\displaystyle \\left(\\frac{\\alpha {c}_{H}}{2} + \\frac{\\beta {c}_{V}}{2}\\right) {d}_{V} + \\left(\\frac{\\alpha {c}_{V}}{2} + \\frac{\\beta {c}_{H}}{2}\\right) {d}_{H}$"
      ],
      "text/plain": [
       "(alpha*c[H]/2 + beta*c[V]/2)*d[V] + (alpha*c[V]/2 + beta*c[H]/2)*d[H]"
      ]
     },
     "execution_count": 10,
     "metadata": {},
     "output_type": "execute_result"
    }
   ],
   "source": [
    "psi_c = c[V]\n",
    "psi_d = alpha * d[H] + beta * d[V]\n",
    "\n",
    "psi_dc = sp.expand(psi_c * psi_d)\n",
    "\n",
    "psi_dcnot = DestructiveCNOT(psi_dc, c, d)\n",
    "psi_ps = PostSelection(psi_dcnot, Sort(psi_dcnot))\n",
    "psi_ps.collect([d[H], d[V]])"
   ]
  },
  {
   "cell_type": "code",
   "execution_count": 11,
   "metadata": {},
   "outputs": [
    {
     "data": {
      "text/latex": [
       "$\\displaystyle \\left(\\frac{\\alpha {c}_{H}}{2} + \\frac{\\beta {c}_{V}}{2}\\right) {d}_{H} + \\left(\\frac{\\alpha {c}_{V}}{2} + \\frac{\\beta {c}_{H}}{2}\\right) {d}_{V}$"
      ],
      "text/plain": [
       "(alpha*c[H]/2 + beta*c[V]/2)*d[H] + (alpha*c[V]/2 + beta*c[H]/2)*d[V]"
      ]
     },
     "execution_count": 11,
     "metadata": {},
     "output_type": "execute_result"
    }
   ],
   "source": [
    "psi_c = c[H]\n",
    "psi_d = alpha * d[H] + beta * d[V]\n",
    "\n",
    "psi_dc = sp.expand(psi_c * psi_d)\n",
    "\n",
    "psi_dcnot = DestructiveCNOT(psi_dc, c, d)\n",
    "psi_ps = PostSelection(psi_dcnot, Sort(psi_dcnot))\n",
    "psi_ps.collect([d[H], d[V]])"
   ]
  }
 ],
 "metadata": {
  "kernelspec": {
   "display_name": "base",
   "language": "python",
   "name": "python3"
  },
  "language_info": {
   "codemirror_mode": {
    "name": "ipython",
    "version": 3
   },
   "file_extension": ".py",
   "mimetype": "text/x-python",
   "name": "python",
   "nbconvert_exporter": "python",
   "pygments_lexer": "ipython3",
   "version": "3.10.13"
  }
 },
 "nbformat": 4,
 "nbformat_minor": 2
}
